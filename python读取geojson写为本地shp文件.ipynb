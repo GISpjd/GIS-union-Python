{
 "cells": [
  {
   "cell_type": "code",
   "execution_count": 1,
   "id": "9b53441c",
   "metadata": {},
   "outputs": [],
   "source": [
    "from osgeo import ogr, osr\n",
    "import requests\n",
    "import json\n",
    "\n",
    "# 获取geojson\n",
    "url = 'https://geo.datav.aliyun.com/areas_v3/bound/410000_full.json'\n",
    "geojson = requests.get(url)\n",
    "data = json.loads(geojson.content)\n",
    "\n",
    "# 准备shp数据源\n",
    "driver = ogr.GetDriverByName('ESRI Shapefile')\n",
    "shp_path = 'C:\\python爬虫\\henan.shp'\n",
    "data_source = driver.CreateDataSource(shp_path)\n",
    "\n",
    "# 定义坐标系\n",
    "srs = osr.SpatialReference()\n",
    "srs.ImportFromEPSG(4326)\n",
    "\n",
    "# 创建坐标系\n",
    "layer = data_source.CreateLayer('province',srs,ogr.wkbMultiPolygon)\n",
    "\n",
    "\n",
    "feature_def = layer.GetLayerDefn() #获取图层定义\n",
    "properties = data['features'][0]['properties']\n",
    "for prop_name in properties.keys():\n",
    "    field = ogr.FieldDefn(prop_name,ogr.OFTString)\n",
    "    layer.CreateField(field)\n",
    "    \n",
    "    \n",
    "for feature in data['features']:\n",
    "    geom = ogr.CreateGeometryFromJson(json.dumps(feature['geometry']))\n",
    "    shp_feature = ogr.Feature(feature_def) #生成新的特征（Feature），以便将其添加到layer中\n",
    "    \n",
    "    for prop_name,prop_value in feature['properties'].items():\n",
    "        prop_value = str(prop_value) if prop_value is not None else ''\n",
    "        shp_feature.SetField(prop_name, prop_value)\n",
    " \n",
    "    #创建几何\n",
    "    shp_feature.SetGeometry(geom)\n",
    "    #创建图层的特征\n",
    "    layer.CreateFeature(shp_feature)\n",
    "    # 销毁要素，释放内存\n",
    "    shp_feature = None\n",
    "# 关闭数据源\n",
    "data_source = None"
   ]
  },
  {
   "cell_type": "code",
   "execution_count": null,
   "id": "7c5bd601",
   "metadata": {},
   "outputs": [],
   "source": []
  },
  {
   "cell_type": "code",
   "execution_count": null,
   "id": "f06828c1",
   "metadata": {},
   "outputs": [],
   "source": []
  }
 ],
 "metadata": {
  "kernelspec": {
   "display_name": "Python 3 (ipykernel)",
   "language": "python",
   "name": "python3"
  },
  "language_info": {
   "codemirror_mode": {
    "name": "ipython",
    "version": 3
   },
   "file_extension": ".py",
   "mimetype": "text/x-python",
   "name": "python",
   "nbconvert_exporter": "python",
   "pygments_lexer": "ipython3",
   "version": "3.11.5"
  }
 },
 "nbformat": 4,
 "nbformat_minor": 5
}
