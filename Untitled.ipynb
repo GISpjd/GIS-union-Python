{
 "cells": [
  {
   "cell_type": "code",
   "execution_count": 2,
   "id": "dc8f82d9",
   "metadata": {},
   "outputs": [
    {
     "name": "stdout",
     "output_type": "stream",
     "text": [
      "POINT Z (1198054.34 648493.09 0)\n"
     ]
    }
   ],
   "source": [
    "from osgeo import ogr\n",
    "point = ogr.Geometry(ogr.wkbPoint)\n",
    "point.AddPoint(1198054.34, 648493.09)\n",
    "print (point.ExportToIsoWkt())"
   ]
  },
  {
   "cell_type": "code",
   "execution_count": 6,
   "id": "dd9375a5",
   "metadata": {},
   "outputs": [
    {
     "name": "stdout",
     "output_type": "stream",
     "text": [
      "1120351.571249,741921.422325\n"
     ]
    }
   ],
   "source": [
    "wkt = \"POINT (1120351.5712494177 741921.4223245403)\"\n",
    "point = ogr.CreateGeometryFromWkt(wkt)\n",
    "print(\"%f,%f\"%(point.GetX(),point.GetY()))"
   ]
  },
  {
   "cell_type": "code",
   "execution_count": 8,
   "id": "a8e833d0",
   "metadata": {},
   "outputs": [
    {
     "name": "stdout",
     "output_type": "stream",
     "text": [
      "(1181866.263593049,) (615654.4222507705,)\n",
      "0). POINT (1181866.26359305 615654.42225077)\n",
      "(1205917.1207499576,) (623979.7189589312,)\n",
      "1). POINT (1205917.12074996 623979.718958931)\n",
      "(1227192.8790041457,) (643405.4112779726,)\n",
      "2). POINT (1227192.87900415 643405.411277973)\n",
      "(1224880.2965852122,) (665143.6860159477,)\n",
      "3). POINT (1224880.29658521 665143.686015948)\n"
     ]
    }
   ],
   "source": [
    "wkt = \"MULTIPOINT (1181866.263593049 615654.4222507705, 1205917.1207499576 623979.7189589312, 1227192.8790041457 643405.4112779726, 1224880.2965852122 665143.6860159477)\"\n",
    "geom = ogr.CreateGeometryFromWkt(wkt)\n",
    "for i in range(0, geom.GetGeometryCount()):\n",
    "    g = geom.GetGeometryRef(i)\n",
    "#     points = g.GetPoints()\n",
    "#     x,y = zip(*points)\n",
    "#     print(x,y)\n",
    "    print(\"%i). %s\" %(i, g.ExportToWkt()))"
   ]
  },
  {
   "cell_type": "code",
   "execution_count": 12,
   "id": "44df335b",
   "metadata": {},
   "outputs": [
    {
     "name": "stdout",
     "output_type": "stream",
     "text": [
      "Area = 820175022\n"
     ]
    }
   ],
   "source": [
    "wkt = \"POLYGON ((1162440.5712740074 672081.4332727483, 1162440.5712740074 647105.5431482664, 1195279.2416228633 647105.5431482664, 1195279.2416228633 672081.4332727483, 1162440.5712740074 672081.4332727483))\"\n",
    "poly = ogr.CreateGeometryFromWkt(wkt)\n",
    "print (\"Area = %d\" % poly.GetArea())"
   ]
  },
  {
   "cell_type": "code",
   "execution_count": null,
   "id": "bffb023f",
   "metadata": {},
   "outputs": [],
   "source": []
  }
 ],
 "metadata": {
  "kernelspec": {
   "display_name": "Python 3 (ipykernel)",
   "language": "python",
   "name": "python3"
  },
  "language_info": {
   "codemirror_mode": {
    "name": "ipython",
    "version": 3
   },
   "file_extension": ".py",
   "mimetype": "text/x-python",
   "name": "python",
   "nbconvert_exporter": "python",
   "pygments_lexer": "ipython3",
   "version": "3.11.5"
  }
 },
 "nbformat": 4,
 "nbformat_minor": 5
}
