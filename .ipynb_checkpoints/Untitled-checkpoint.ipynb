{
 "cells": [
  {
   "cell_type": "code",
   "execution_count": 2,
   "id": "dc8f82d9",
   "metadata": {},
   "outputs": [
    {
     "name": "stdout",
     "output_type": "stream",
     "text": [
      "POINT Z (1198054.34 648493.09 0)\n"
     ]
    }
   ],
   "source": [
    "from osgeo import ogr\n",
    "point = ogr.Geometry(ogr.wkbPoint)\n",
    "point.AddPoint(1198054.34, 648493.09)\n",
    "print (point.ExportToIsoWkt())"
   ]
  },
  {
   "cell_type": "code",
   "execution_count": 6,
   "id": "dd9375a5",
   "metadata": {},
   "outputs": [
    {
     "name": "stdout",
     "output_type": "stream",
     "text": [
      "1120351.571249,741921.422325\n"
     ]
    }
   ],
   "source": [
    "wkt = \"POINT (1120351.5712494177 741921.4223245403)\"\n",
    "point = ogr.CreateGeometryFromWkt(wkt)\n",
    "print(\"%f,%f\"%(point.GetX(),point.GetY()))"
   ]
  },
  {
   "cell_type": "code",
   "execution_count": 8,
   "id": "a8e833d0",
   "metadata": {},
   "outputs": [
    {
     "name": "stdout",
     "output_type": "stream",
     "text": [
      "(1181866.263593049,) (615654.4222507705,)\n",
      "0). POINT (1181866.26359305 615654.42225077)\n",
      "(1205917.1207499576,) (623979.7189589312,)\n",
      "1). POINT (1205917.12074996 623979.718958931)\n",
      "(1227192.8790041457,) (643405.4112779726,)\n",
      "2). POINT (1227192.87900415 643405.411277973)\n",
      "(1224880.2965852122,) (665143.6860159477,)\n",
      "3). POINT (1224880.29658521 665143.686015948)\n"
     ]
    }
   ],
   "source": [
    "wkt = \"MULTIPOINT (1181866.263593049 615654.4222507705, 1205917.1207499576 623979.7189589312, 1227192.8790041457 643405.4112779726, 1224880.2965852122 665143.6860159477)\"\n",
    "geom = ogr.CreateGeometryFromWkt(wkt)\n",
    "for i in range(0, geom.GetGeometryCount()):\n",
    "    g = geom.GetGeometryRef(i)\n",
    "#     points = g.GetPoints()\n",
    "#     x,y = zip(*points)\n",
    "#     print(x,y)\n",
    "    print(\"%i). %s\" %(i, g.ExportToWkt()))"
   ]
  },
  {
   "cell_type": "code",
   "execution_count": 12,
   "id": "44df335b",
   "metadata": {},
   "outputs": [
    {
     "name": "stdout",
     "output_type": "stream",
     "text": [
      "Area = 820175022\n"
     ]
    }
   ],
   "source": [
    "wkt = \"POLYGON ((1162440.5712740074 672081.4332727483, 1162440.5712740074 647105.5431482664, 1195279.2416228633 647105.5431482664, 1195279.2416228633 672081.4332727483, 1162440.5712740074 672081.4332727483))\"\n",
    "poly = ogr.CreateGeometryFromWkt(wkt)\n",
    "print (\"Area = %d\" % poly.GetArea())"
   ]
  },
  {
   "cell_type": "code",
   "execution_count": 9,
   "id": "bffb023f",
   "metadata": {},
   "outputs": [
    {
     "name": "stdout",
     "output_type": "stream",
     "text": [
      "POINT (47.3488013802885 -122.598135130878)\n"
     ]
    }
   ],
   "source": [
    "from osgeo import ogr,osr\n",
    "\n",
    "source = osr.SpatialReference()\n",
    "source.ImportFromEPSG(2927)\n",
    "\n",
    "target = osr.SpatialReference()\n",
    "target.ImportFromEPSG(4326)\n",
    "\n",
    "transform = osr.CoordinateTransformation(source,target)\n",
    "point = ogr.CreateGeometryFromWkt(\"POINT (1120351.57 741921.42)\")\n",
    "point.Transform(transform)\n",
    "\n",
    "print(point.ExportToWkt())"
   ]
  },
  {
   "cell_type": "code",
   "execution_count": 10,
   "id": "c434170e",
   "metadata": {
    "scrolled": true
   },
   "outputs": [
    {
     "name": "stdout",
     "output_type": "stream",
     "text": [
      "PROJCS[\"CGCS2000 / Gauss-Kruger CM 117E\",\n",
      "    GEOGCS[\"China Geodetic Coordinate System 2000\",\n",
      "        DATUM[\"China_2000\",\n",
      "            SPHEROID[\"CGCS2000\",6378137,298.257222101],\n",
      "            AUTHORITY[\"EPSG\",\"1043\"]],\n",
      "        PRIMEM[\"Greenwich\",0],\n",
      "        UNIT[\"Degree\",0.0174532925199433]],\n",
      "    PROJECTION[\"Transverse_Mercator\"],\n",
      "    PARAMETER[\"latitude_of_origin\",0],\n",
      "    PARAMETER[\"central_meridian\",119],\n",
      "    PARAMETER[\"scale_factor\",1],\n",
      "    PARAMETER[\"false_easting\",500000],\n",
      "    PARAMETER[\"false_northing\",0],\n",
      "    UNIT[\"metre\",1,\n",
      "        AUTHORITY[\"EPSG\",\"9001\"]],\n",
      "    AXIS[\"Easting\",EAST],\n",
      "    AXIS[\"Northing\",NORTH]]\n"
     ]
    }
   ],
   "source": [
    "driver = ogr.GetDriverByName('ESRI Shapefile')\n",
    "datasource = driver.Open(r'C:\\GIS union python\\data\\江苏国道\\JsGd.shp')\n",
    "layer = datasource.GetLayer()\n",
    "spatialRef = layer.GetSpatialRef()\n",
    "print(spatialRef)"
   ]
  },
  {
   "cell_type": "code",
   "execution_count": 13,
   "id": "6884523c",
   "metadata": {},
   "outputs": [
    {
     "name": "stdout",
     "output_type": "stream",
     "text": [
      "PROJCS[\"CGCS2000 / Gauss-Kruger CM 117E\",\n",
      "    GEOGCS[\"China Geodetic Coordinate System 2000\",\n",
      "        DATUM[\"China_2000\",\n",
      "            SPHEROID[\"CGCS2000\",6378137,298.257222101],\n",
      "            AUTHORITY[\"EPSG\",\"1043\"]],\n",
      "        PRIMEM[\"Greenwich\",0],\n",
      "        UNIT[\"Degree\",0.0174532925199433]],\n",
      "    PROJECTION[\"Transverse_Mercator\"],\n",
      "    PARAMETER[\"latitude_of_origin\",0],\n",
      "    PARAMETER[\"central_meridian\",119],\n",
      "    PARAMETER[\"scale_factor\",1],\n",
      "    PARAMETER[\"false_easting\",500000],\n",
      "    PARAMETER[\"false_northing\",0],\n",
      "    UNIT[\"metre\",1,\n",
      "        AUTHORITY[\"EPSG\",\"9001\"]],\n",
      "    AXIS[\"Easting\",EAST],\n",
      "    AXIS[\"Northing\",NORTH]]\n"
     ]
    }
   ],
   "source": [
    "feature = layer.GetNextFeature()\n",
    "geom = feature.GetGeometryRef()\n",
    "spatialReff = geom.GetSpatialReference()\n",
    "print(spatialReff)"
   ]
  },
  {
   "cell_type": "code",
   "execution_count": 4,
   "id": "fbfb4850",
   "metadata": {},
   "outputs": [
    {
     "data": {
      "text/plain": [
       "['TM          E008',\n",
       " 'METRE',\n",
       " (0.0,\n",
       "  0.0,\n",
       "  119.0,\n",
       "  0.0,\n",
       "  0.0,\n",
       "  0.0,\n",
       "  500000.0,\n",
       "  0.0,\n",
       "  1.0,\n",
       "  0.0,\n",
       "  0.0,\n",
       "  0.0,\n",
       "  0.0,\n",
       "  0.0,\n",
       "  0.0,\n",
       "  0.0,\n",
       "  0.0)]"
      ]
     },
     "execution_count": 4,
     "metadata": {},
     "output_type": "execute_result"
    }
   ],
   "source": [
    "from osgeo import ogr,osr\n",
    "driver = ogr.GetDriverByName('ESRI Shapefile')\n",
    "datasource = driver.Open(r'C:\\GIS union python\\data\\江苏国道\\JsGd.shp')\n",
    "layer = datasource.GetLayer()\n",
    "spatialRef = layer.GetSpatialRef()\n",
    "\n",
    "# spatialRef.ExportToWkt()\n",
    "# spatialRef.ExportToPrettyWkt()\n",
    "spatialRef.ExportToPCI()\n",
    "# spatialRef.ExportToUSGS()\n",
    "# spatialRef.ExportToXML()"
   ]
  },
  {
   "cell_type": "code",
   "execution_count": null,
   "id": "503dfd14",
   "metadata": {},
   "outputs": [],
   "source": []
  }
 ],
 "metadata": {
  "kernelspec": {
   "display_name": "Python 3 (ipykernel)",
   "language": "python",
   "name": "python3"
  },
  "language_info": {
   "codemirror_mode": {
    "name": "ipython",
    "version": 3
   },
   "file_extension": ".py",
   "mimetype": "text/x-python",
   "name": "python",
   "nbconvert_exporter": "python",
   "pygments_lexer": "ipython3",
   "version": "3.11.5"
  }
 },
 "nbformat": 4,
 "nbformat_minor": 5
}
